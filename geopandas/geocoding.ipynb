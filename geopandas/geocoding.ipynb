{
 "cells": [
  {
   "cell_type": "code",
   "execution_count": 3,
   "metadata": {},
   "outputs": [],
   "source": [
    "import pandas as pd\n",
    "import geopandas as gpd\n",
    "import numpy as np\n",
    "import folium\n",
    "from folium import Marker\n",
    "from geopandas.tools import geocode"
   ]
  },
  {
   "cell_type": "code",
   "execution_count": 2,
   "metadata": {},
   "outputs": [],
   "source": [
    "def embed_map(m, file_name):\n",
    "    \"\"\"Generates an HTML map and displays it\"\"\"\n",
    "    \n",
    "    from IPython.display import IFrame\n",
    "    m.save(file_name)\n",
    "    return IFrame(file_name, width='100%', height='500px')"
   ]
  },
  {
   "cell_type": "code",
   "execution_count": 4,
   "metadata": {},
   "outputs": [
    {
     "data": {
      "text/html": [
       "<div>\n",
       "<style scoped>\n",
       "    .dataframe tbody tr th:only-of-type {\n",
       "        vertical-align: middle;\n",
       "    }\n",
       "\n",
       "    .dataframe tbody tr th {\n",
       "        vertical-align: top;\n",
       "    }\n",
       "\n",
       "    .dataframe thead th {\n",
       "        text-align: right;\n",
       "    }\n",
       "</style>\n",
       "<table border=\"1\" class=\"dataframe\">\n",
       "  <thead>\n",
       "    <tr style=\"text-align: right;\">\n",
       "      <th></th>\n",
       "      <th>geometry</th>\n",
       "      <th>address</th>\n",
       "    </tr>\n",
       "  </thead>\n",
       "  <tbody>\n",
       "    <tr>\n",
       "      <th>0</th>\n",
       "      <td>POINT (31.13424 29.97913)</td>\n",
       "      <td>هرم خوفو, Cause way, كوم الأخضر, الجيزة, محافظ...</td>\n",
       "    </tr>\n",
       "  </tbody>\n",
       "</table>\n",
       "</div>"
      ],
      "text/plain": [
       "                    geometry  \\\n",
       "0  POINT (31.13424 29.97913)   \n",
       "\n",
       "                                             address  \n",
       "0  هرم خوفو, Cause way, كوم الأخضر, الجيزة, محافظ...  "
      ]
     },
     "execution_count": 4,
     "metadata": {},
     "output_type": "execute_result"
    }
   ],
   "source": [
    "result = geocode(\"The Great Pyramid of Giza\", provider=\"nominatim\")\n",
    "result"
   ]
  },
  {
   "cell_type": "code",
   "execution_count": 5,
   "metadata": {},
   "outputs": [
    {
     "name": "stdout",
     "output_type": "stream",
     "text": [
      "Latitude:  29.9791264\n",
      "Longitude:  31.1342383751015\n"
     ]
    }
   ],
   "source": [
    "point = result.geometry.iloc[0]\n",
    "print(\"Latitude: \", point.y)\n",
    "print(\"Longitude: \", point.x)"
   ]
  },
  {
   "cell_type": "code",
   "execution_count": 6,
   "metadata": {},
   "outputs": [],
   "source": [
    "%%bash\n",
    "cp /Users/gurupratap.matharu/Downloads/geospatial-learn-course-data/top_universities.csv ../datasets/\n"
   ]
  },
  {
   "cell_type": "code",
   "execution_count": 18,
   "metadata": {},
   "outputs": [
    {
     "data": {
      "text/html": [
       "<div>\n",
       "<style scoped>\n",
       "    .dataframe tbody tr th:only-of-type {\n",
       "        vertical-align: middle;\n",
       "    }\n",
       "\n",
       "    .dataframe tbody tr th {\n",
       "        vertical-align: top;\n",
       "    }\n",
       "\n",
       "    .dataframe thead th {\n",
       "        text-align: right;\n",
       "    }\n",
       "</style>\n",
       "<table border=\"1\" class=\"dataframe\">\n",
       "  <thead>\n",
       "    <tr style=\"text-align: right;\">\n",
       "      <th></th>\n",
       "      <th>Name</th>\n",
       "    </tr>\n",
       "  </thead>\n",
       "  <tbody>\n",
       "    <tr>\n",
       "      <th>0</th>\n",
       "      <td>University of Oxford</td>\n",
       "    </tr>\n",
       "    <tr>\n",
       "      <th>1</th>\n",
       "      <td>University of Cambridge</td>\n",
       "    </tr>\n",
       "    <tr>\n",
       "      <th>2</th>\n",
       "      <td>Imperial College London</td>\n",
       "    </tr>\n",
       "    <tr>\n",
       "      <th>3</th>\n",
       "      <td>ETH Zurich</td>\n",
       "    </tr>\n",
       "    <tr>\n",
       "      <th>4</th>\n",
       "      <td>UCL</td>\n",
       "    </tr>\n",
       "  </tbody>\n",
       "</table>\n",
       "</div>"
      ],
      "text/plain": [
       "                      Name\n",
       "0     University of Oxford\n",
       "1  University of Cambridge\n",
       "2  Imperial College London\n",
       "3               ETH Zurich\n",
       "4                      UCL"
      ]
     },
     "execution_count": 18,
     "metadata": {},
     "output_type": "execute_result"
    }
   ],
   "source": [
    "universities = pd.read_csv(\"../datasets/top_universities.csv\")\n",
    "universities.head()"
   ]
  },
  {
   "cell_type": "code",
   "execution_count": 22,
   "metadata": {},
   "outputs": [],
   "source": [
    "universities = universities.sample(n=10)"
   ]
  },
  {
   "cell_type": "code",
   "execution_count": 9,
   "metadata": {},
   "outputs": [],
   "source": [
    "def my_geocoder(row):\n",
    "    \"\"\"Returns a geocoded value for a dataframe row\"\"\"\n",
    "    \n",
    "    try:\n",
    "        point = geocode(row, provider=\"nominatim\").geometry.iloc[0]\n",
    "        return pd.Series({'Latitude': point.y, 'Longitude': point.x, 'geometry': point})\n",
    "    except:\n",
    "        return None"
   ]
  },
  {
   "cell_type": "code",
   "execution_count": 15,
   "metadata": {},
   "outputs": [],
   "source": [
    "res = my_geocoder(\"Eiffel Tower\")\n",
    "res"
   ]
  },
  {
   "cell_type": "code",
   "execution_count": 23,
   "metadata": {},
   "outputs": [
    {
     "data": {
      "text/html": [
       "<div>\n",
       "<style scoped>\n",
       "    .dataframe tbody tr th:only-of-type {\n",
       "        vertical-align: middle;\n",
       "    }\n",
       "\n",
       "    .dataframe tbody tr th {\n",
       "        vertical-align: top;\n",
       "    }\n",
       "\n",
       "    .dataframe thead th {\n",
       "        text-align: right;\n",
       "    }\n",
       "</style>\n",
       "<table border=\"1\" class=\"dataframe\">\n",
       "  <thead>\n",
       "    <tr style=\"text-align: right;\">\n",
       "      <th></th>\n",
       "      <th>Name</th>\n",
       "      <th>Latitude</th>\n",
       "      <th>Longitude</th>\n",
       "      <th>geometry</th>\n",
       "    </tr>\n",
       "  </thead>\n",
       "  <tbody>\n",
       "    <tr>\n",
       "      <th>22</th>\n",
       "      <td>Sorbonne University</td>\n",
       "      <td>48.846900</td>\n",
       "      <td>2.357449</td>\n",
       "      <td>POINT (2.35744865311587 48.8468997)</td>\n",
       "    </tr>\n",
       "    <tr>\n",
       "      <th>11</th>\n",
       "      <td>Paris Sciences et Lettres – PSL Research Unive...</td>\n",
       "      <td>NaN</td>\n",
       "      <td>NaN</td>\n",
       "      <td>None</td>\n",
       "    </tr>\n",
       "    <tr>\n",
       "      <th>27</th>\n",
       "      <td>University of Warwick</td>\n",
       "      <td>52.379313</td>\n",
       "      <td>-1.560425</td>\n",
       "      <td>POINT (-1.5604252 52.3793131)</td>\n",
       "    </tr>\n",
       "    <tr>\n",
       "      <th>39</th>\n",
       "      <td>École Polytechnique</td>\n",
       "      <td>48.847246</td>\n",
       "      <td>2.349096</td>\n",
       "      <td>POINT (2.34909643900866 48.8472458)</td>\n",
       "    </tr>\n",
       "    <tr>\n",
       "      <th>71</th>\n",
       "      <td>Scuola Superiore Sant’Anna</td>\n",
       "      <td>43.720608</td>\n",
       "      <td>10.402644</td>\n",
       "      <td>POINT (10.4026444 43.7206078)</td>\n",
       "    </tr>\n",
       "  </tbody>\n",
       "</table>\n",
       "</div>"
      ],
      "text/plain": [
       "                                                 Name   Latitude  Longitude  \\\n",
       "22                                Sorbonne University  48.846900   2.357449   \n",
       "11  Paris Sciences et Lettres – PSL Research Unive...        NaN        NaN   \n",
       "27                              University of Warwick  52.379313  -1.560425   \n",
       "39                                École Polytechnique  48.847246   2.349096   \n",
       "71                         Scuola Superiore Sant’Anna  43.720608  10.402644   \n",
       "\n",
       "                               geometry  \n",
       "22  POINT (2.35744865311587 48.8468997)  \n",
       "11                                 None  \n",
       "27        POINT (-1.5604252 52.3793131)  \n",
       "39  POINT (2.34909643900866 48.8472458)  \n",
       "71        POINT (10.4026444 43.7206078)  "
      ]
     },
     "execution_count": 23,
     "metadata": {},
     "output_type": "execute_result"
    }
   ],
   "source": [
    "universities[['Latitude', 'Longitude', 'geometry']] = universities.apply(lambda x: my_geocoder(x['Name']), axis=1)\n",
    "universities.head()"
   ]
  },
  {
   "cell_type": "code",
   "execution_count": 34,
   "metadata": {},
   "outputs": [
    {
     "name": "stdout",
     "output_type": "stream",
     "text": [
      "70.0% of the universities we geocoded!\n"
     ]
    }
   ],
   "source": [
    "print(\"{}% of the universities we geocoded!\".format((1 - universities['Latitude'].isna().sum() / len(universities)) * 100 ))"
   ]
  },
  {
   "cell_type": "code",
   "execution_count": 41,
   "metadata": {},
   "outputs": [
    {
     "data": {
      "text/html": [
       "<div>\n",
       "<style scoped>\n",
       "    .dataframe tbody tr th:only-of-type {\n",
       "        vertical-align: middle;\n",
       "    }\n",
       "\n",
       "    .dataframe tbody tr th {\n",
       "        vertical-align: top;\n",
       "    }\n",
       "\n",
       "    .dataframe thead th {\n",
       "        text-align: right;\n",
       "    }\n",
       "</style>\n",
       "<table border=\"1\" class=\"dataframe\">\n",
       "  <thead>\n",
       "    <tr style=\"text-align: right;\">\n",
       "      <th></th>\n",
       "      <th>Name</th>\n",
       "      <th>Latitude</th>\n",
       "      <th>Longitude</th>\n",
       "      <th>geometry</th>\n",
       "    </tr>\n",
       "  </thead>\n",
       "  <tbody>\n",
       "    <tr>\n",
       "      <th>22</th>\n",
       "      <td>Sorbonne University</td>\n",
       "      <td>48.846900</td>\n",
       "      <td>2.357449</td>\n",
       "      <td>POINT (2.35744865311587 48.8468997)</td>\n",
       "    </tr>\n",
       "    <tr>\n",
       "      <th>27</th>\n",
       "      <td>University of Warwick</td>\n",
       "      <td>52.379313</td>\n",
       "      <td>-1.560425</td>\n",
       "      <td>POINT (-1.5604252 52.3793131)</td>\n",
       "    </tr>\n",
       "    <tr>\n",
       "      <th>39</th>\n",
       "      <td>École Polytechnique</td>\n",
       "      <td>48.847246</td>\n",
       "      <td>2.349096</td>\n",
       "      <td>POINT (2.34909643900866 48.8472458)</td>\n",
       "    </tr>\n",
       "    <tr>\n",
       "      <th>71</th>\n",
       "      <td>Scuola Superiore Sant’Anna</td>\n",
       "      <td>43.720608</td>\n",
       "      <td>10.402644</td>\n",
       "      <td>POINT (10.4026444 43.7206078)</td>\n",
       "    </tr>\n",
       "    <tr>\n",
       "      <th>31</th>\n",
       "      <td>Charité - Universitätsmedizin Berlin</td>\n",
       "      <td>52.525851</td>\n",
       "      <td>13.377740</td>\n",
       "      <td>POINT (13.3777395779327 52.52585125)</td>\n",
       "    </tr>\n",
       "  </tbody>\n",
       "</table>\n",
       "</div>"
      ],
      "text/plain": [
       "                                    Name   Latitude  Longitude  \\\n",
       "22                   Sorbonne University  48.846900   2.357449   \n",
       "27                 University of Warwick  52.379313  -1.560425   \n",
       "39                   École Polytechnique  48.847246   2.349096   \n",
       "71            Scuola Superiore Sant’Anna  43.720608  10.402644   \n",
       "31  Charité - Universitätsmedizin Berlin  52.525851  13.377740   \n",
       "\n",
       "                                geometry  \n",
       "22   POINT (2.35744865311587 48.8468997)  \n",
       "27         POINT (-1.5604252 52.3793131)  \n",
       "39   POINT (2.34909643900866 48.8472458)  \n",
       "71         POINT (10.4026444 43.7206078)  \n",
       "31  POINT (13.3777395779327 52.52585125)  "
      ]
     },
     "execution_count": 41,
     "metadata": {},
     "output_type": "execute_result"
    }
   ],
   "source": [
    "universities = universities.loc[~np.isnan(universities['Latitude'])]\n",
    "universities.head()"
   ]
  },
  {
   "cell_type": "code",
   "execution_count": 43,
   "metadata": {},
   "outputs": [
    {
     "data": {
      "text/html": [
       "<div>\n",
       "<style scoped>\n",
       "    .dataframe tbody tr th:only-of-type {\n",
       "        vertical-align: middle;\n",
       "    }\n",
       "\n",
       "    .dataframe tbody tr th {\n",
       "        vertical-align: top;\n",
       "    }\n",
       "\n",
       "    .dataframe thead th {\n",
       "        text-align: right;\n",
       "    }\n",
       "</style>\n",
       "<table border=\"1\" class=\"dataframe\">\n",
       "  <thead>\n",
       "    <tr style=\"text-align: right;\">\n",
       "      <th></th>\n",
       "      <th>Name</th>\n",
       "      <th>Latitude</th>\n",
       "      <th>Longitude</th>\n",
       "      <th>geometry</th>\n",
       "    </tr>\n",
       "  </thead>\n",
       "  <tbody>\n",
       "    <tr>\n",
       "      <th>22</th>\n",
       "      <td>Sorbonne University</td>\n",
       "      <td>48.846900</td>\n",
       "      <td>2.357449</td>\n",
       "      <td>POINT (2.35745 48.84690)</td>\n",
       "    </tr>\n",
       "    <tr>\n",
       "      <th>27</th>\n",
       "      <td>University of Warwick</td>\n",
       "      <td>52.379313</td>\n",
       "      <td>-1.560425</td>\n",
       "      <td>POINT (-1.56043 52.37931)</td>\n",
       "    </tr>\n",
       "    <tr>\n",
       "      <th>39</th>\n",
       "      <td>École Polytechnique</td>\n",
       "      <td>48.847246</td>\n",
       "      <td>2.349096</td>\n",
       "      <td>POINT (2.34910 48.84725)</td>\n",
       "    </tr>\n",
       "    <tr>\n",
       "      <th>71</th>\n",
       "      <td>Scuola Superiore Sant’Anna</td>\n",
       "      <td>43.720608</td>\n",
       "      <td>10.402644</td>\n",
       "      <td>POINT (10.40264 43.72061)</td>\n",
       "    </tr>\n",
       "    <tr>\n",
       "      <th>31</th>\n",
       "      <td>Charité - Universitätsmedizin Berlin</td>\n",
       "      <td>52.525851</td>\n",
       "      <td>13.377740</td>\n",
       "      <td>POINT (13.37774 52.52585)</td>\n",
       "    </tr>\n",
       "  </tbody>\n",
       "</table>\n",
       "</div>"
      ],
      "text/plain": [
       "                                    Name   Latitude  Longitude  \\\n",
       "22                   Sorbonne University  48.846900   2.357449   \n",
       "27                 University of Warwick  52.379313  -1.560425   \n",
       "39                   École Polytechnique  48.847246   2.349096   \n",
       "71            Scuola Superiore Sant’Anna  43.720608  10.402644   \n",
       "31  Charité - Universitätsmedizin Berlin  52.525851  13.377740   \n",
       "\n",
       "                     geometry  \n",
       "22   POINT (2.35745 48.84690)  \n",
       "27  POINT (-1.56043 52.37931)  \n",
       "39   POINT (2.34910 48.84725)  \n",
       "71  POINT (10.40264 43.72061)  \n",
       "31  POINT (13.37774 52.52585)  "
      ]
     },
     "execution_count": 43,
     "metadata": {},
     "output_type": "execute_result"
    }
   ],
   "source": [
    "universities = gpd.GeoDataFrame(universities, geometry=universities.geometry)\n",
    "universities.crs = {'init': 'epsg:4326'}\n",
    "universities.head()"
   ]
  },
  {
   "cell_type": "code",
   "execution_count": 44,
   "metadata": {},
   "outputs": [
    {
     "data": {
      "text/plain": [
       "geopandas.geodataframe.GeoDataFrame"
      ]
     },
     "execution_count": 44,
     "metadata": {},
     "output_type": "execute_result"
    }
   ],
   "source": [
    "type(universities)"
   ]
  },
  {
   "cell_type": "code",
   "execution_count": 49,
   "metadata": {},
   "outputs": [
    {
     "data": {
      "text/html": [
       "\n",
       "        <iframe\n",
       "            width=\"100%\"\n",
       "            height=\"500px\"\n",
       "            src=\"m.html\"\n",
       "            frameborder=\"0\"\n",
       "            allowfullscreen\n",
       "        ></iframe>\n",
       "        "
      ],
      "text/plain": [
       "<IPython.lib.display.IFrame at 0x11ab28b10>"
      ]
     },
     "execution_count": 49,
     "metadata": {},
     "output_type": "execute_result"
    }
   ],
   "source": [
    "# Create a map\n",
    "m = folium.Map(location=[54, 15], tiles='openstreetmap', zoom_start=2)\n",
    "\n",
    "# Add points to map\n",
    "for ids, row in universities.iterrows():\n",
    "    Marker(location=[row['Latitude'], row['Longitude']], popup=row['Name']).add_to(m)\n",
    "\n",
    "# Display the map\n",
    "embed_map(m, 'm.html')"
   ]
  },
  {
   "cell_type": "code",
   "execution_count": null,
   "metadata": {},
   "outputs": [],
   "source": []
  }
 ],
 "metadata": {
  "kernelspec": {
   "display_name": "Python 3",
   "language": "python",
   "name": "python3"
  },
  "language_info": {
   "codemirror_mode": {
    "name": "ipython",
    "version": 3
   },
   "file_extension": ".py",
   "mimetype": "text/x-python",
   "name": "python",
   "nbconvert_exporter": "python",
   "pygments_lexer": "ipython3",
   "version": "3.7.5"
  }
 },
 "nbformat": 4,
 "nbformat_minor": 2
}
